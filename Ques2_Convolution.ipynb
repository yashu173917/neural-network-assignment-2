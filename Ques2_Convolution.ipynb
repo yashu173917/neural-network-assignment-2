{
 "cells": [
  {
   "cell_type": "code",
   "execution_count": 1,
   "metadata": {
    "colab": {
     "base_uri": "https://localhost:8080/"
    },
    "executionInfo": {
     "elapsed": 20695,
     "status": "ok",
     "timestamp": 1740966706496,
     "user": {
      "displayName": "Mohan Avinash Kakulavarapu",
      "userId": "02418669374113699307"
     },
     "user_tz": 360
    },
    "id": "Q30moV2isDYU",
    "outputId": "29b088e9-cb53-4833-e2cc-480c95087f46"
   },
   "outputs": [
    {
     "name": "stdout",
     "output_type": "stream",
     "text": [
      "Output with Stride = 1, Padding = 'VALID':\n",
      " [[-6. -6. -6.]\n",
      " [-6. -6. -6.]\n",
      " [-6. -6. -6.]]\n",
      "\n",
      "Output with Stride = 1, Padding = 'SAME':\n",
      " [[ -9.  -4.  -4.  -4.  13.]\n",
      " [-21.  -6.  -6.  -6.  27.]\n",
      " [-36.  -6.  -6.  -6.  42.]\n",
      " [-51.  -6.  -6.  -6.  57.]\n",
      " [-39.  -4.  -4.  -4.  43.]]\n",
      "\n",
      "Output with Stride = 2, Padding = 'VALID':\n",
      " [[-6. -6.]\n",
      " [-6. -6.]]\n",
      "\n",
      "Output with Stride = 2, Padding = 'SAME':\n",
      " [[ -9.  -4.  13.]\n",
      " [-36.  -6.  42.]\n",
      " [-39.  -4.  43.]]\n"
     ]
    }
   ],
   "source": [
    "import tensorflow as tf\n",
    "import numpy as np\n",
    "\n",
    "# Define the 5×5 input matrix\n",
    "input_matrix = np.array([\n",
    "    [1, 2, 3, 4, 5],\n",
    "    [6, 7, 8, 9, 10],\n",
    "    [11, 12, 13, 14, 15],\n",
    "    [16, 17, 18, 19, 20],\n",
    "    [21, 22, 23, 24, 25]\n",
    "], dtype=np.float32).reshape(1, 5, 5, 1)  # Reshaped to 4D for TensorFlow (batch, height, width, channels)\n",
    "\n",
    "# Define the 3×3 kernel\n",
    "kernel = np.array([\n",
    "    [1, 0, -1],\n",
    "    [1, 0, -1],\n",
    "    [1, 0, -1]\n",
    "], dtype=np.float32).reshape(3, 3, 1, 1)  # Reshaped for TensorFlow (height, width, in_channels, out_channels)\n",
    "\n",
    "# Convert to TensorFlow tensors\n",
    "input_tensor = tf.constant(input_matrix, dtype=tf.float32)\n",
    "kernel_tensor = tf.constant(kernel, dtype=tf.float32)\n",
    "\n",
    "# Perform convolution operations with different stride and padding\n",
    "def perform_convolution(stride, padding):\n",
    "    conv_layer = tf.nn.conv2d(input_tensor, kernel_tensor, strides=[1, stride, stride, 1], padding=padding)\n",
    "    return conv_layer.numpy().squeeze()  # Convert tensor to NumPy and remove single dimensions\n",
    "\n",
    "# Compute outputs\n",
    "output_valid_stride_1 = perform_convolution(1, 'VALID')\n",
    "output_same_stride_1 = perform_convolution(1, 'SAME')\n",
    "output_valid_stride_2 = perform_convolution(2, 'VALID')\n",
    "output_same_stride_2 = perform_convolution(2, 'SAME')\n",
    "\n",
    "# Print the output feature maps\n",
    "print(\"Output with Stride = 1, Padding = 'VALID':\\n\", output_valid_stride_1)\n",
    "print(\"\\nOutput with Stride = 1, Padding = 'SAME':\\n\", output_same_stride_1)\n",
    "print(\"\\nOutput with Stride = 2, Padding = 'VALID':\\n\", output_valid_stride_2)\n",
    "print(\"\\nOutput with Stride = 2, Padding = 'SAME':\\n\", output_same_stride_2)"
   ]
  },
  {
   "cell_type": "code",
   "execution_count": null,
   "metadata": {
    "id": "jlvVERgKs1P-"
   },
   "outputs": [],
   "source": []
  }
 ],
 "metadata": {
  "colab": {
   "authorship_tag": "ABX9TyM4fNAZ1bGgyO86b7WAT6sX",
   "provenance": []
  },
  "kernelspec": {
   "display_name": "Python [conda env:base] *",
   "language": "python",
   "name": "conda-base-py"
  },
  "language_info": {
   "codemirror_mode": {
    "name": "ipython",
    "version": 3
   },
   "file_extension": ".py",
   "mimetype": "text/x-python",
   "name": "python",
   "nbconvert_exporter": "python",
   "pygments_lexer": "ipython3",
   "version": "3.11.7"
  }
 },
 "nbformat": 4,
 "nbformat_minor": 4
}
